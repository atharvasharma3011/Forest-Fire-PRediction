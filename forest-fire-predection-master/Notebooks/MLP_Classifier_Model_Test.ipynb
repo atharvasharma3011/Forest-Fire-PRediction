{
 "cells": [
  {
   "cell_type": "code",
   "execution_count": 1,
   "metadata": {
    "id": "haPYsHhneGxq"
   },
   "outputs": [],
   "source": [
    "import numpy as np\n",
    "import pandas as pd\n",
    "import matplotlib.pyplot as plt\n",
    "\n",
    "from sklearn.neural_network import MLPClassifier\n",
    "from sklearn.model_selection import train_test_split\n",
    "from sklearn.preprocessing import StandardScaler"
   ]
  },
  {
   "cell_type": "code",
   "execution_count": 2,
   "metadata": {
    "id": "KfAcJdMwerji"
   },
   "outputs": [],
   "source": [
    "df=pd.read_csv('../forestfires.csv')"
   ]
  },
  {
   "cell_type": "code",
   "execution_count": 3,
   "metadata": {
    "colab": {
     "base_uri": "https://localhost:8080/",
     "height": 195
    },
    "id": "azQkLv1Ke0hp",
    "outputId": "51802de8-c495-4669-c7db-060a97b9e9ec"
   },
   "outputs": [
    {
     "data": {
      "text/html": [
       "<div>\n",
       "<style scoped>\n",
       "    .dataframe tbody tr th:only-of-type {\n",
       "        vertical-align: middle;\n",
       "    }\n",
       "\n",
       "    .dataframe tbody tr th {\n",
       "        vertical-align: top;\n",
       "    }\n",
       "\n",
       "    .dataframe thead th {\n",
       "        text-align: right;\n",
       "    }\n",
       "</style>\n",
       "<table border=\"1\" class=\"dataframe\">\n",
       "  <thead>\n",
       "    <tr style=\"text-align: right;\">\n",
       "      <th></th>\n",
       "      <th>X</th>\n",
       "      <th>Y</th>\n",
       "      <th>month</th>\n",
       "      <th>day</th>\n",
       "      <th>FFMC</th>\n",
       "      <th>DMC</th>\n",
       "      <th>DC</th>\n",
       "      <th>ISI</th>\n",
       "      <th>temp</th>\n",
       "      <th>RH</th>\n",
       "      <th>wind</th>\n",
       "      <th>rain</th>\n",
       "      <th>area</th>\n",
       "    </tr>\n",
       "  </thead>\n",
       "  <tbody>\n",
       "    <tr>\n",
       "      <th>0</th>\n",
       "      <td>7</td>\n",
       "      <td>5</td>\n",
       "      <td>mar</td>\n",
       "      <td>fri</td>\n",
       "      <td>86.2</td>\n",
       "      <td>26.2</td>\n",
       "      <td>94.3</td>\n",
       "      <td>5.1</td>\n",
       "      <td>8.2</td>\n",
       "      <td>51</td>\n",
       "      <td>6.7</td>\n",
       "      <td>0.0</td>\n",
       "      <td>0.0</td>\n",
       "    </tr>\n",
       "    <tr>\n",
       "      <th>1</th>\n",
       "      <td>7</td>\n",
       "      <td>4</td>\n",
       "      <td>oct</td>\n",
       "      <td>tue</td>\n",
       "      <td>90.6</td>\n",
       "      <td>35.4</td>\n",
       "      <td>669.1</td>\n",
       "      <td>6.7</td>\n",
       "      <td>18.0</td>\n",
       "      <td>33</td>\n",
       "      <td>0.9</td>\n",
       "      <td>0.0</td>\n",
       "      <td>0.0</td>\n",
       "    </tr>\n",
       "    <tr>\n",
       "      <th>2</th>\n",
       "      <td>7</td>\n",
       "      <td>4</td>\n",
       "      <td>oct</td>\n",
       "      <td>sat</td>\n",
       "      <td>90.6</td>\n",
       "      <td>43.7</td>\n",
       "      <td>686.9</td>\n",
       "      <td>6.7</td>\n",
       "      <td>14.6</td>\n",
       "      <td>33</td>\n",
       "      <td>1.3</td>\n",
       "      <td>0.0</td>\n",
       "      <td>0.0</td>\n",
       "    </tr>\n",
       "    <tr>\n",
       "      <th>3</th>\n",
       "      <td>8</td>\n",
       "      <td>6</td>\n",
       "      <td>mar</td>\n",
       "      <td>fri</td>\n",
       "      <td>91.7</td>\n",
       "      <td>33.3</td>\n",
       "      <td>77.5</td>\n",
       "      <td>9.0</td>\n",
       "      <td>8.3</td>\n",
       "      <td>97</td>\n",
       "      <td>4.0</td>\n",
       "      <td>0.2</td>\n",
       "      <td>0.0</td>\n",
       "    </tr>\n",
       "    <tr>\n",
       "      <th>4</th>\n",
       "      <td>8</td>\n",
       "      <td>6</td>\n",
       "      <td>mar</td>\n",
       "      <td>sun</td>\n",
       "      <td>89.3</td>\n",
       "      <td>51.3</td>\n",
       "      <td>102.2</td>\n",
       "      <td>9.6</td>\n",
       "      <td>11.4</td>\n",
       "      <td>99</td>\n",
       "      <td>1.8</td>\n",
       "      <td>0.0</td>\n",
       "      <td>0.0</td>\n",
       "    </tr>\n",
       "  </tbody>\n",
       "</table>\n",
       "</div>"
      ],
      "text/plain": [
       "   X  Y month  day  FFMC   DMC     DC  ISI  temp  RH  wind  rain  area\n",
       "0  7  5   mar  fri  86.2  26.2   94.3  5.1   8.2  51   6.7   0.0   0.0\n",
       "1  7  4   oct  tue  90.6  35.4  669.1  6.7  18.0  33   0.9   0.0   0.0\n",
       "2  7  4   oct  sat  90.6  43.7  686.9  6.7  14.6  33   1.3   0.0   0.0\n",
       "3  8  6   mar  fri  91.7  33.3   77.5  9.0   8.3  97   4.0   0.2   0.0\n",
       "4  8  6   mar  sun  89.3  51.3  102.2  9.6  11.4  99   1.8   0.0   0.0"
      ]
     },
     "execution_count": 3,
     "metadata": {},
     "output_type": "execute_result"
    }
   ],
   "source": [
    "df.head()"
   ]
  },
  {
   "cell_type": "code",
   "execution_count": 4,
   "metadata": {
    "colab": {
     "base_uri": "https://localhost:8080/"
    },
    "id": "HvDcC4uU06UX",
    "outputId": "ce24c2a7-218d-4131-b076-27e53cd563d5"
   },
   "outputs": [
    {
     "data": {
      "text/plain": [
       "0.00      247\n",
       "1.94        3\n",
       "0.52        2\n",
       "3.71        2\n",
       "0.68        2\n",
       "         ... \n",
       "105.66      1\n",
       "154.88      1\n",
       "196.48      1\n",
       "200.94      1\n",
       "11.16       1\n",
       "Name: area, Length: 251, dtype: int64"
      ]
     },
     "execution_count": 4,
     "metadata": {},
     "output_type": "execute_result"
    }
   ],
   "source": [
    "df['area'].value_counts()"
   ]
  },
  {
   "cell_type": "code",
   "execution_count": 5,
   "metadata": {
    "colab": {
     "base_uri": "https://localhost:8080/"
    },
    "id": "M7yoIAj8f01g",
    "outputId": "f6f5ad2d-d05b-4e4b-ed09-c449fe5dfefc"
   },
   "outputs": [
    {
     "data": {
      "text/plain": [
       "X        517\n",
       "Y        517\n",
       "month    517\n",
       "day      517\n",
       "FFMC     517\n",
       "DMC      517\n",
       "DC       517\n",
       "ISI      517\n",
       "temp     517\n",
       "RH       517\n",
       "wind     517\n",
       "rain     517\n",
       "area     517\n",
       "dtype: int64"
      ]
     },
     "execution_count": 5,
     "metadata": {},
     "output_type": "execute_result"
    }
   ],
   "source": [
    "df.count()"
   ]
  },
  {
   "cell_type": "code",
   "execution_count": 6,
   "metadata": {
    "id": "64T2YBWr1EMD"
   },
   "outputs": [],
   "source": [
    "df=df.drop(['X','Y','month','day'],axis=1)"
   ]
  },
  {
   "cell_type": "code",
   "execution_count": 7,
   "metadata": {
    "id": "r4llIzlxfO7o"
   },
   "outputs": [],
   "source": [
    "def preprocessing(df,task):\n",
    "  df=df.copy()\n",
    "  if task=='Regression':\n",
    "    Y=df['area']\n",
    "  elif task=='Classification':\n",
    "    Y=df['area'].apply(lambda x: 1 if x>0 else 0)\n",
    "\n",
    "  X=df.drop('area',axis=1)\n",
    "\n",
    "  X_train,X_test,Y_train,Y_test=train_test_split(X,Y,train_size=0.65,shuffle=False,random_state=0)\n",
    "\n",
    "  scaler=StandardScaler()\n",
    "  scaler.fit(X_train)\n",
    "\n",
    "  X_train=pd.DataFrame(scaler.transform(X_train),columns=X.columns)\n",
    "  X_test=pd.DataFrame(scaler.transform(X_test),columns=X.columns)\n",
    "\n",
    "  return X_train,X_test,Y_train,Y_test"
   ]
  },
  {
   "cell_type": "code",
   "execution_count": 8,
   "metadata": {
    "id": "If6nkFuRgc-c"
   },
   "outputs": [],
   "source": [
    "X_train,X_test,Y_train,Y_test=preprocessing(df,task='Classification')"
   ]
  },
  {
   "cell_type": "code",
   "execution_count": 9,
   "metadata": {
    "colab": {
     "base_uri": "https://localhost:8080/",
     "height": 195
    },
    "id": "R7u538cfkBtA",
    "outputId": "5fa23675-64ad-4ef8-afe1-6ae6a7a9f36f"
   },
   "outputs": [
    {
     "data": {
      "text/html": [
       "<div>\n",
       "<style scoped>\n",
       "    .dataframe tbody tr th:only-of-type {\n",
       "        vertical-align: middle;\n",
       "    }\n",
       "\n",
       "    .dataframe tbody tr th {\n",
       "        vertical-align: top;\n",
       "    }\n",
       "\n",
       "    .dataframe thead th {\n",
       "        text-align: right;\n",
       "    }\n",
       "</style>\n",
       "<table border=\"1\" class=\"dataframe\">\n",
       "  <thead>\n",
       "    <tr style=\"text-align: right;\">\n",
       "      <th></th>\n",
       "      <th>FFMC</th>\n",
       "      <th>DMC</th>\n",
       "      <th>DC</th>\n",
       "      <th>ISI</th>\n",
       "      <th>temp</th>\n",
       "      <th>RH</th>\n",
       "      <th>wind</th>\n",
       "      <th>rain</th>\n",
       "    </tr>\n",
       "  </thead>\n",
       "  <tbody>\n",
       "    <tr>\n",
       "      <th>0</th>\n",
       "      <td>-0.851337</td>\n",
       "      <td>-1.497066</td>\n",
       "      <td>-1.741817</td>\n",
       "      <td>-0.786052</td>\n",
       "      <td>-1.853885</td>\n",
       "      <td>0.542042</td>\n",
       "      <td>1.488535</td>\n",
       "      <td>-0.073692</td>\n",
       "    </tr>\n",
       "    <tr>\n",
       "      <th>1</th>\n",
       "      <td>0.045241</td>\n",
       "      <td>-1.290273</td>\n",
       "      <td>0.604909</td>\n",
       "      <td>-0.449092</td>\n",
       "      <td>-0.028985</td>\n",
       "      <td>-0.591916</td>\n",
       "      <td>-1.703078</td>\n",
       "      <td>-0.073692</td>\n",
       "    </tr>\n",
       "    <tr>\n",
       "      <th>2</th>\n",
       "      <td>0.045241</td>\n",
       "      <td>-1.103710</td>\n",
       "      <td>0.677581</td>\n",
       "      <td>-0.449092</td>\n",
       "      <td>-0.662114</td>\n",
       "      <td>-0.591916</td>\n",
       "      <td>-1.482967</td>\n",
       "      <td>-0.073692</td>\n",
       "    </tr>\n",
       "    <tr>\n",
       "      <th>3</th>\n",
       "      <td>0.269386</td>\n",
       "      <td>-1.337476</td>\n",
       "      <td>-1.810406</td>\n",
       "      <td>0.035288</td>\n",
       "      <td>-1.835263</td>\n",
       "      <td>3.439935</td>\n",
       "      <td>0.002784</td>\n",
       "      <td>3.463542</td>\n",
       "    </tr>\n",
       "    <tr>\n",
       "      <th>4</th>\n",
       "      <td>-0.219657</td>\n",
       "      <td>-0.932881</td>\n",
       "      <td>-1.709563</td>\n",
       "      <td>0.161648</td>\n",
       "      <td>-1.257999</td>\n",
       "      <td>3.565930</td>\n",
       "      <td>-1.207828</td>\n",
       "      <td>-0.073692</td>\n",
       "    </tr>\n",
       "  </tbody>\n",
       "</table>\n",
       "</div>"
      ],
      "text/plain": [
       "       FFMC       DMC        DC       ISI      temp        RH      wind  \\\n",
       "0 -0.851337 -1.497066 -1.741817 -0.786052 -1.853885  0.542042  1.488535   \n",
       "1  0.045241 -1.290273  0.604909 -0.449092 -0.028985 -0.591916 -1.703078   \n",
       "2  0.045241 -1.103710  0.677581 -0.449092 -0.662114 -0.591916 -1.482967   \n",
       "3  0.269386 -1.337476 -1.810406  0.035288 -1.835263  3.439935  0.002784   \n",
       "4 -0.219657 -0.932881 -1.709563  0.161648 -1.257999  3.565930 -1.207828   \n",
       "\n",
       "       rain  \n",
       "0 -0.073692  \n",
       "1 -0.073692  \n",
       "2 -0.073692  \n",
       "3  3.463542  \n",
       "4 -0.073692  "
      ]
     },
     "execution_count": 9,
     "metadata": {},
     "output_type": "execute_result"
    }
   ],
   "source": [
    "X_train.head()"
   ]
  },
  {
   "cell_type": "code",
   "execution_count": 10,
   "metadata": {
    "colab": {
     "base_uri": "https://localhost:8080/",
     "height": 596
    },
    "id": "fk-DtmcJo6xD",
    "outputId": "69677a14-c2e8-40d9-ddab-08a1571e7318"
   },
   "outputs": [
    {
     "data": {
      "image/png": "[encoded data removed]",
      "text/plain": [
       "<Figure size 1200x1000 with 2 Axes>"
      ]
     },
     "metadata": {},
     "output_type": "display_data"
    }
   ],
   "source": [
    "import seaborn as sns\n",
    "plt.figure(figsize=(12,10))\n",
    "corr=X_train.corr()\n",
    "sns.heatmap(corr, annot=True, cmap=plt.cm.CMRmap_r )\n",
    "plt.show()"
   ]
  },
  {
   "cell_type": "code",
   "execution_count": 11,
   "metadata": {
    "id": "SCqUJpfBsDxB"
   },
   "outputs": [],
   "source": [
    "def correlation(dataset,threshold):\n",
    "  col_corr=set()\n",
    "  corr_matrix=dataset.corr()\n",
    "  for i in range(len(corr_matrix.columns)):\n",
    "    for j in range(i):\n",
    "      if(abs(corr_matrix.iloc[i,j])>threshold):\n",
    "        colname=corr_matrix.columns[i]\n",
    "        col_corr.add(colname)\n",
    "  return col_corr"
   ]
  },
  {
   "cell_type": "code",
   "execution_count": 12,
   "metadata": {
    "colab": {
     "base_uri": "https://localhost:8080/"
    },
    "id": "FQhJrboPt2Cg",
    "outputId": "297d0f65-fe7f-4124-c13d-e0914d9f4544"
   },
   "outputs": [
    {
     "data": {
      "text/plain": [
       "0"
      ]
     },
     "execution_count": 12,
     "metadata": {},
     "output_type": "execute_result"
    }
   ],
   "source": [
    "corr_features=correlation(X_train,0.7)\n",
    "len(set(corr_features))"
   ]
  },
  {
   "cell_type": "code",
   "execution_count": 13,
   "metadata": {
    "colab": {
     "base_uri": "https://localhost:8080/"
    },
    "id": "rZM3J_iMuWUW",
    "outputId": "3c250302-95dc-4145-fa75-38d7a1cb209c"
   },
   "outputs": [
    {
     "data": {
      "text/plain": [
       "set()"
      ]
     },
     "execution_count": 13,
     "metadata": {},
     "output_type": "execute_result"
    }
   ],
   "source": [
    "corr_features"
   ]
  },
  {
   "cell_type": "code",
   "execution_count": 14,
   "metadata": {
    "colab": {
     "base_uri": "https://localhost:8080/",
     "height": 195
    },
    "id": "TQB_afBzuzoT",
    "outputId": "bf22cc42-dc57-4457-ae6b-e7534f990191"
   },
   "outputs": [
    {
     "data": {
      "text/html": [
       "<div>\n",
       "<style scoped>\n",
       "    .dataframe tbody tr th:only-of-type {\n",
       "        vertical-align: middle;\n",
       "    }\n",
       "\n",
       "    .dataframe tbody tr th {\n",
       "        vertical-align: top;\n",
       "    }\n",
       "\n",
       "    .dataframe thead th {\n",
       "        text-align: right;\n",
       "    }\n",
       "</style>\n",
       "<table border=\"1\" class=\"dataframe\">\n",
       "  <thead>\n",
       "    <tr style=\"text-align: right;\">\n",
       "      <th></th>\n",
       "      <th>FFMC</th>\n",
       "      <th>DMC</th>\n",
       "      <th>DC</th>\n",
       "      <th>ISI</th>\n",
       "      <th>temp</th>\n",
       "      <th>RH</th>\n",
       "      <th>wind</th>\n",
       "      <th>rain</th>\n",
       "    </tr>\n",
       "  </thead>\n",
       "  <tbody>\n",
       "    <tr>\n",
       "      <th>0</th>\n",
       "      <td>-0.851337</td>\n",
       "      <td>-1.497066</td>\n",
       "      <td>-1.741817</td>\n",
       "      <td>-0.786052</td>\n",
       "      <td>-1.853885</td>\n",
       "      <td>0.542042</td>\n",
       "      <td>1.488535</td>\n",
       "      <td>-0.073692</td>\n",
       "    </tr>\n",
       "    <tr>\n",
       "      <th>1</th>\n",
       "      <td>0.045241</td>\n",
       "      <td>-1.290273</td>\n",
       "      <td>0.604909</td>\n",
       "      <td>-0.449092</td>\n",
       "      <td>-0.028985</td>\n",
       "      <td>-0.591916</td>\n",
       "      <td>-1.703078</td>\n",
       "      <td>-0.073692</td>\n",
       "    </tr>\n",
       "    <tr>\n",
       "      <th>2</th>\n",
       "      <td>0.045241</td>\n",
       "      <td>-1.103710</td>\n",
       "      <td>0.677581</td>\n",
       "      <td>-0.449092</td>\n",
       "      <td>-0.662114</td>\n",
       "      <td>-0.591916</td>\n",
       "      <td>-1.482967</td>\n",
       "      <td>-0.073692</td>\n",
       "    </tr>\n",
       "    <tr>\n",
       "      <th>3</th>\n",
       "      <td>0.269386</td>\n",
       "      <td>-1.337476</td>\n",
       "      <td>-1.810406</td>\n",
       "      <td>0.035288</td>\n",
       "      <td>-1.835263</td>\n",
       "      <td>3.439935</td>\n",
       "      <td>0.002784</td>\n",
       "      <td>3.463542</td>\n",
       "    </tr>\n",
       "    <tr>\n",
       "      <th>4</th>\n",
       "      <td>-0.219657</td>\n",
       "      <td>-0.932881</td>\n",
       "      <td>-1.709563</td>\n",
       "      <td>0.161648</td>\n",
       "      <td>-1.257999</td>\n",
       "      <td>3.565930</td>\n",
       "      <td>-1.207828</td>\n",
       "      <td>-0.073692</td>\n",
       "    </tr>\n",
       "  </tbody>\n",
       "</table>\n",
       "</div>"
      ],
      "text/plain": [
       "       FFMC       DMC        DC       ISI      temp        RH      wind  \\\n",
       "0 -0.851337 -1.497066 -1.741817 -0.786052 -1.853885  0.542042  1.488535   \n",
       "1  0.045241 -1.290273  0.604909 -0.449092 -0.028985 -0.591916 -1.703078   \n",
       "2  0.045241 -1.103710  0.677581 -0.449092 -0.662114 -0.591916 -1.482967   \n",
       "3  0.269386 -1.337476 -1.810406  0.035288 -1.835263  3.439935  0.002784   \n",
       "4 -0.219657 -0.932881 -1.709563  0.161648 -1.257999  3.565930 -1.207828   \n",
       "\n",
       "       rain  \n",
       "0 -0.073692  \n",
       "1 -0.073692  \n",
       "2 -0.073692  \n",
       "3  3.463542  \n",
       "4 -0.073692  "
      ]
     },
     "execution_count": 14,
     "metadata": {},
     "output_type": "execute_result"
    }
   ],
   "source": [
    "X_train.drop(corr_features,axis=1).head()"
   ]
  },
  {
   "cell_type": "code",
   "execution_count": 15,
   "metadata": {
    "colab": {
     "base_uri": "https://localhost:8080/",
     "height": 195
    },
    "id": "oJ2_e2eNvCmP",
    "outputId": "d969a1ac-319d-4157-ed5b-a828deb9fc0a"
   },
   "outputs": [
    {
     "data": {
      "text/html": [
       "<div>\n",
       "<style scoped>\n",
       "    .dataframe tbody tr th:only-of-type {\n",
       "        vertical-align: middle;\n",
       "    }\n",
       "\n",
       "    .dataframe tbody tr th {\n",
       "        vertical-align: top;\n",
       "    }\n",
       "\n",
       "    .dataframe thead th {\n",
       "        text-align: right;\n",
       "    }\n",
       "</style>\n",
       "<table border=\"1\" class=\"dataframe\">\n",
       "  <thead>\n",
       "    <tr style=\"text-align: right;\">\n",
       "      <th></th>\n",
       "      <th>FFMC</th>\n",
       "      <th>DMC</th>\n",
       "      <th>DC</th>\n",
       "      <th>ISI</th>\n",
       "      <th>temp</th>\n",
       "      <th>RH</th>\n",
       "      <th>wind</th>\n",
       "      <th>rain</th>\n",
       "    </tr>\n",
       "  </thead>\n",
       "  <tbody>\n",
       "    <tr>\n",
       "      <th>0</th>\n",
       "      <td>0.249009</td>\n",
       "      <td>0.350581</td>\n",
       "      <td>0.992355</td>\n",
       "      <td>-0.554392</td>\n",
       "      <td>0.213093</td>\n",
       "      <td>0.101059</td>\n",
       "      <td>-0.987716</td>\n",
       "      <td>-0.073692</td>\n",
       "    </tr>\n",
       "    <tr>\n",
       "      <th>1</th>\n",
       "      <td>0.249009</td>\n",
       "      <td>0.350581</td>\n",
       "      <td>0.992355</td>\n",
       "      <td>-0.554392</td>\n",
       "      <td>0.902086</td>\n",
       "      <td>-0.528918</td>\n",
       "      <td>-0.987716</td>\n",
       "      <td>-0.073692</td>\n",
       "    </tr>\n",
       "    <tr>\n",
       "      <th>2</th>\n",
       "      <td>0.249009</td>\n",
       "      <td>0.350581</td>\n",
       "      <td>0.992355</td>\n",
       "      <td>-0.554392</td>\n",
       "      <td>0.846222</td>\n",
       "      <td>-0.465920</td>\n",
       "      <td>-0.987716</td>\n",
       "      <td>-0.073692</td>\n",
       "    </tr>\n",
       "    <tr>\n",
       "      <th>3</th>\n",
       "      <td>0.249009</td>\n",
       "      <td>0.350581</td>\n",
       "      <td>0.992355</td>\n",
       "      <td>-0.554392</td>\n",
       "      <td>0.417929</td>\n",
       "      <td>-0.087934</td>\n",
       "      <td>-1.207828</td>\n",
       "      <td>-0.073692</td>\n",
       "    </tr>\n",
       "    <tr>\n",
       "      <th>4</th>\n",
       "      <td>0.249009</td>\n",
       "      <td>0.350581</td>\n",
       "      <td>0.992355</td>\n",
       "      <td>-0.554392</td>\n",
       "      <td>0.213093</td>\n",
       "      <td>0.101059</td>\n",
       "      <td>-0.987716</td>\n",
       "      <td>-0.073692</td>\n",
       "    </tr>\n",
       "  </tbody>\n",
       "</table>\n",
       "</div>"
      ],
      "text/plain": [
       "       FFMC       DMC        DC       ISI      temp        RH      wind  \\\n",
       "0  0.249009  0.350581  0.992355 -0.554392  0.213093  0.101059 -0.987716   \n",
       "1  0.249009  0.350581  0.992355 -0.554392  0.902086 -0.528918 -0.987716   \n",
       "2  0.249009  0.350581  0.992355 -0.554392  0.846222 -0.465920 -0.987716   \n",
       "3  0.249009  0.350581  0.992355 -0.554392  0.417929 -0.087934 -1.207828   \n",
       "4  0.249009  0.350581  0.992355 -0.554392  0.213093  0.101059 -0.987716   \n",
       "\n",
       "       rain  \n",
       "0 -0.073692  \n",
       "1 -0.073692  \n",
       "2 -0.073692  \n",
       "3 -0.073692  \n",
       "4 -0.073692  "
      ]
     },
     "execution_count": 15,
     "metadata": {},
     "output_type": "execute_result"
    }
   ],
   "source": [
    "X_test.drop(corr_features,axis=1).head()"
   ]
  },
  {
   "cell_type": "code",
   "execution_count": 16,
   "metadata": {
    "colab": {
     "base_uri": "https://localhost:8080/"
    },
    "id": "aCAAVY53hZPy",
    "outputId": "62f03706-7433-41e4-b917-3a445cfd2661"
   },
   "outputs": [
    {
     "name": "stderr",
     "output_type": "stream",
     "text": [
      "/Users/sunil.kashyap/sunil/krishna/test/Forest-Fire-Prediction/newFire/lib/python3.9/site-packages/sklearn/neural_network/_multilayer_perceptron.py:702: ConvergenceWarning: Stochastic Optimizer: Maximum iterations (200) reached and the optimization hasn't converged yet.\n",
      "  warnings.warn(\n"
     ]
    },
    {
     "data": {
      "text/html": [
       "<style>#sk-container-id-1 {color: black;background-color: white;}#sk-container-id-1 pre{padding: 0;}#sk-container-id-1 div.sk-toggleable {background-color: white;}#sk-container-id-1 label.sk-toggleable__label {cursor: pointer;display: block;width: 100%;margin-bottom: 0;padding: 0.3em;box-sizing: border-box;text-align: center;}#sk-container-id-1 label.sk-toggleable__label-arrow:before {content: \"▸\";float: left;margin-right: 0.25em;color: #696969;}#sk-container-id-1 label.sk-toggleable__label-arrow:hover:before {color: black;}#sk-container-id-1 div.sk-estimator:hover label.sk-toggleable__label-arrow:before {color: black;}#sk-container-id-1 div.sk-toggleable__content {max-height: 0;max-width: 0;overflow: hidden;text-align: left;background-color: #f0f8ff;}#sk-container-id-1 div.sk-toggleable__content pre {margin: 0.2em;color: black;border-radius: 0.25em;background-color: #f0f8ff;}#sk-container-id-1 input.sk-toggleable__control:checked~div.sk-toggleable__content {max-height: 200px;max-width: 100%;overflow: auto;}#sk-container-id-1 input.sk-toggleable__control:checked~label.sk-toggleable__label-arrow:before {content: \"▾\";}#sk-container-id-1 div.sk-estimator input.sk-toggleable__control:checked~label.sk-toggleable__label {background-color: #d4ebff;}#sk-container-id-1 div.sk-label input.sk-toggleable__control:checked~label.sk-toggleable__label {background-color: #d4ebff;}#sk-container-id-1 input.sk-hidden--visually {border: 0;clip: rect(1px 1px 1px 1px);clip: rect(1px, 1px, 1px, 1px);height: 1px;margin: -1px;overflow: hidden;padding: 0;position: absolute;width: 1px;}#sk-container-id-1 div.sk-estimator {font-family: monospace;background-color: #f0f8ff;border: 1px dotted black;border-radius: 0.25em;box-sizing: border-box;margin-bottom: 0.5em;}#sk-container-id-1 div.sk-estimator:hover {background-color: #d4ebff;}#sk-container-id-1 div.sk-parallel-item::after {content: \"\";width: 100%;border-bottom: 1px solid gray;flex-grow: 1;}#sk-container-id-1 div.sk-label:hover label.sk-toggleable__label {background-color: #d4ebff;}#sk-container-id-1 div.sk-serial::before {content: \"\";position: absolute;border-left: 1px solid gray;box-sizing: border-box;top: 0;bottom: 0;left: 50%;z-index: 0;}#sk-container-id-1 div.sk-serial {display: flex;flex-direction: column;align-items: center;background-color: white;padding-right: 0.2em;padding-left: 0.2em;position: relative;}#sk-container-id-1 div.sk-item {position: relative;z-index: 1;}#sk-container-id-1 div.sk-parallel {display: flex;align-items: stretch;justify-content: center;background-color: white;position: relative;}#sk-container-id-1 div.sk-item::before, #sk-container-id-1 div.sk-parallel-item::before {content: \"\";position: absolute;border-left: 1px solid gray;box-sizing: border-box;top: 0;bottom: 0;left: 50%;z-index: -1;}#sk-container-id-1 div.sk-parallel-item {display: flex;flex-direction: column;z-index: 1;position: relative;background-color: white;}#sk-container-id-1 div.sk-parallel-item:first-child::after {align-self: flex-end;width: 50%;}#sk-container-id-1 div.sk-parallel-item:last-child::after {align-self: flex-start;width: 50%;}#sk-container-id-1 div.sk-parallel-item:only-child::after {width: 0;}#sk-container-id-1 div.sk-dashed-wrapped {border: 1px dashed gray;margin: 0 0.4em 0.5em 0.4em;box-sizing: border-box;padding-bottom: 0.4em;background-color: white;}#sk-container-id-1 div.sk-label label {font-family: monospace;font-weight: bold;display: inline-block;line-height: 1.2em;}#sk-container-id-1 div.sk-label-container {text-align: center;}#sk-container-id-1 div.sk-container {/* jupyter's `normalize.less` sets `[hidden] { display: none; }` but bootstrap.min.css set `[hidden] { display: none !important; }` so we also need the `!important` here to be able to override the default hidden behavior on the sphinx rendered scikit-learn.org. See: https://github.com/scikit-learn/scikit-learn/issues/21755 */display: inline-block !important;position: relative;}#sk-container-id-1 div.sk-text-repr-fallback {display: none;}</style><div id=\"sk-container-id-1\" class=\"sk-top-container\"><div class=\"sk-text-repr-fallback\"><pre>MLPClassifier(hidden_layer_sizes=(16, 16), n_iter_no_change=100)</pre><b>In a Jupyter environment, please rerun this cell to show the HTML representation or trust the notebook. <br />On GitHub, the HTML representation is unable to render, please try loading this page with nbviewer.org.</b></div><div class=\"sk-container\" hidden><div class=\"sk-item\"><div class=\"sk-estimator sk-toggleable\"><input class=\"sk-toggleable__control sk-hidden--visually\" id=\"sk-estimator-id-1\" type=\"checkbox\" checked><label for=\"sk-estimator-id-1\" class=\"sk-toggleable__label sk-toggleable__label-arrow\">MLPClassifier</label><div class=\"sk-toggleable__content\"><pre>MLPClassifier(hidden_layer_sizes=(16, 16), n_iter_no_change=100)</pre></div></div></div></div></div>"
      ],
      "text/plain": [
       "MLPClassifier(hidden_layer_sizes=(16, 16), n_iter_no_change=100)"
      ]
     },
     "execution_count": 16,
     "metadata": {},
     "output_type": "execute_result"
    }
   ],
   "source": [
    "nn_classifier_model=MLPClassifier(activation='relu',hidden_layer_sizes=(16,16),n_iter_no_change=100,solver='adam')\n",
    "nn_classifier_model.fit(X_train,Y_train)"
   ]
  },
  {
   "cell_type": "code",
   "execution_count": 17,
   "metadata": {
    "colab": {
     "base_uri": "https://localhost:8080/"
    },
    "id": "RP5Id2Y8hZZT",
    "outputId": "a3d58ef3-297f-4681-ccce-645fe4457118"
   },
   "outputs": [
    {
     "name": "stdout",
     "output_type": "stream",
     "text": [
      "MLP Classifier Accuracy, 50.27624%\n"
     ]
    }
   ],
   "source": [
    "print('MLP Classifier Accuracy, {:.5f}%'.format(nn_classifier_model.score(X_test,Y_test)*100))"
   ]
  },
  {
   "cell_type": "code",
   "execution_count": 18,
   "metadata": {
    "colab": {
     "base_uri": "https://localhost:8080/"
    },
    "id": "6LwFQUq1wGrv",
    "outputId": "f9ecff2d-f345-4b3f-9e6b-5ce14e97e579"
   },
   "outputs": [
    {
     "data": {
      "text/plain": [
       "array([[0.43046838, 0.56953162],\n",
       "       [0.49615106, 0.50384894],\n",
       "       [0.47920951, 0.52079049],\n",
       "       [0.42092753, 0.57907247],\n",
       "       [0.43046838, 0.56953162],\n",
       "       [0.47338743, 0.52661257],\n",
       "       [0.35842726, 0.64157274],\n",
       "       [0.59662009, 0.40337991],\n",
       "       [0.63551087, 0.36448913],\n",
       "       [0.44906432, 0.55093568]])"
      ]
     },
     "execution_count": 18,
     "metadata": {},
     "output_type": "execute_result"
    }
   ],
   "source": [
    "nn_classifier_model.predict_proba(X_test[:10])"
   ]
  },
  {
   "cell_type": "code",
   "execution_count": 19,
   "metadata": {
    "colab": {
     "base_uri": "https://localhost:8080/"
    },
    "id": "ZrYAWrLOwnc6",
    "outputId": "be16bae4-c800-487b-a923-013dc837ac2d"
   },
   "outputs": [
    {
     "data": {
      "text/plain": [
       "array([1, 1, 1, 1, 1, 1, 1, 0, 0, 1])"
      ]
     },
     "execution_count": 19,
     "metadata": {},
     "output_type": "execute_result"
    }
   ],
   "source": [
    "nn_classifier_model.predict(X_test[:10])"
   ]
  },
  {
   "cell_type": "code",
   "execution_count": 20,
   "metadata": {
    "colab": {
     "base_uri": "https://localhost:8080/",
     "height": 343
    },
    "id": "0hZjBM-dxHY6",
    "outputId": "3f18de0e-7f86-4828-f860-ada4d78cfef0"
   },
   "outputs": [
    {
     "data": {
      "text/html": [
       "<div>\n",
       "<style scoped>\n",
       "    .dataframe tbody tr th:only-of-type {\n",
       "        vertical-align: middle;\n",
       "    }\n",
       "\n",
       "    .dataframe tbody tr th {\n",
       "        vertical-align: top;\n",
       "    }\n",
       "\n",
       "    .dataframe thead th {\n",
       "        text-align: right;\n",
       "    }\n",
       "</style>\n",
       "<table border=\"1\" class=\"dataframe\">\n",
       "  <thead>\n",
       "    <tr style=\"text-align: right;\">\n",
       "      <th></th>\n",
       "      <th>FFMC</th>\n",
       "      <th>DMC</th>\n",
       "      <th>DC</th>\n",
       "      <th>ISI</th>\n",
       "      <th>temp</th>\n",
       "      <th>RH</th>\n",
       "      <th>wind</th>\n",
       "      <th>rain</th>\n",
       "    </tr>\n",
       "  </thead>\n",
       "  <tbody>\n",
       "    <tr>\n",
       "      <th>0</th>\n",
       "      <td>0.249009</td>\n",
       "      <td>0.350581</td>\n",
       "      <td>0.992355</td>\n",
       "      <td>-0.554392</td>\n",
       "      <td>0.213093</td>\n",
       "      <td>0.101059</td>\n",
       "      <td>-0.987716</td>\n",
       "      <td>-0.073692</td>\n",
       "    </tr>\n",
       "    <tr>\n",
       "      <th>1</th>\n",
       "      <td>0.249009</td>\n",
       "      <td>0.350581</td>\n",
       "      <td>0.992355</td>\n",
       "      <td>-0.554392</td>\n",
       "      <td>0.902086</td>\n",
       "      <td>-0.528918</td>\n",
       "      <td>-0.987716</td>\n",
       "      <td>-0.073692</td>\n",
       "    </tr>\n",
       "    <tr>\n",
       "      <th>2</th>\n",
       "      <td>0.249009</td>\n",
       "      <td>0.350581</td>\n",
       "      <td>0.992355</td>\n",
       "      <td>-0.554392</td>\n",
       "      <td>0.846222</td>\n",
       "      <td>-0.465920</td>\n",
       "      <td>-0.987716</td>\n",
       "      <td>-0.073692</td>\n",
       "    </tr>\n",
       "    <tr>\n",
       "      <th>3</th>\n",
       "      <td>0.249009</td>\n",
       "      <td>0.350581</td>\n",
       "      <td>0.992355</td>\n",
       "      <td>-0.554392</td>\n",
       "      <td>0.417929</td>\n",
       "      <td>-0.087934</td>\n",
       "      <td>-1.207828</td>\n",
       "      <td>-0.073692</td>\n",
       "    </tr>\n",
       "    <tr>\n",
       "      <th>4</th>\n",
       "      <td>0.249009</td>\n",
       "      <td>0.350581</td>\n",
       "      <td>0.992355</td>\n",
       "      <td>-0.554392</td>\n",
       "      <td>0.213093</td>\n",
       "      <td>0.101059</td>\n",
       "      <td>-0.987716</td>\n",
       "      <td>-0.073692</td>\n",
       "    </tr>\n",
       "    <tr>\n",
       "      <th>5</th>\n",
       "      <td>0.310139</td>\n",
       "      <td>0.424757</td>\n",
       "      <td>1.018076</td>\n",
       "      <td>-0.491212</td>\n",
       "      <td>-0.457278</td>\n",
       "      <td>0.542042</td>\n",
       "      <td>-0.987716</td>\n",
       "      <td>-0.073692</td>\n",
       "    </tr>\n",
       "    <tr>\n",
       "      <th>6</th>\n",
       "      <td>0.228632</td>\n",
       "      <td>0.838342</td>\n",
       "      <td>1.168319</td>\n",
       "      <td>-0.280612</td>\n",
       "      <td>0.455172</td>\n",
       "      <td>-0.339925</td>\n",
       "      <td>-1.207828</td>\n",
       "      <td>-0.073692</td>\n",
       "    </tr>\n",
       "    <tr>\n",
       "      <th>7</th>\n",
       "      <td>0.228632</td>\n",
       "      <td>0.838342</td>\n",
       "      <td>1.168319</td>\n",
       "      <td>-0.280612</td>\n",
       "      <td>-0.420035</td>\n",
       "      <td>0.542042</td>\n",
       "      <td>0.277923</td>\n",
       "      <td>-0.073692</td>\n",
       "    </tr>\n",
       "    <tr>\n",
       "      <th>8</th>\n",
       "      <td>0.228632</td>\n",
       "      <td>0.838342</td>\n",
       "      <td>1.168319</td>\n",
       "      <td>-0.280612</td>\n",
       "      <td>-1.109028</td>\n",
       "      <td>1.487007</td>\n",
       "      <td>0.498034</td>\n",
       "      <td>-0.073692</td>\n",
       "    </tr>\n",
       "    <tr>\n",
       "      <th>9</th>\n",
       "      <td>0.228632</td>\n",
       "      <td>0.838342</td>\n",
       "      <td>1.168319</td>\n",
       "      <td>-0.280612</td>\n",
       "      <td>-0.252442</td>\n",
       "      <td>0.038061</td>\n",
       "      <td>-0.492466</td>\n",
       "      <td>-0.073692</td>\n",
       "    </tr>\n",
       "  </tbody>\n",
       "</table>\n",
       "</div>"
      ],
      "text/plain": [
       "       FFMC       DMC        DC       ISI      temp        RH      wind  \\\n",
       "0  0.249009  0.350581  0.992355 -0.554392  0.213093  0.101059 -0.987716   \n",
       "1  0.249009  0.350581  0.992355 -0.554392  0.902086 -0.528918 -0.987716   \n",
       "2  0.249009  0.350581  0.992355 -0.554392  0.846222 -0.465920 -0.987716   \n",
       "3  0.249009  0.350581  0.992355 -0.554392  0.417929 -0.087934 -1.207828   \n",
       "4  0.249009  0.350581  0.992355 -0.554392  0.213093  0.101059 -0.987716   \n",
       "5  0.310139  0.424757  1.018076 -0.491212 -0.457278  0.542042 -0.987716   \n",
       "6  0.228632  0.838342  1.168319 -0.280612  0.455172 -0.339925 -1.207828   \n",
       "7  0.228632  0.838342  1.168319 -0.280612 -0.420035  0.542042  0.277923   \n",
       "8  0.228632  0.838342  1.168319 -0.280612 -1.109028  1.487007  0.498034   \n",
       "9  0.228632  0.838342  1.168319 -0.280612 -0.252442  0.038061 -0.492466   \n",
       "\n",
       "       rain  \n",
       "0 -0.073692  \n",
       "1 -0.073692  \n",
       "2 -0.073692  \n",
       "3 -0.073692  \n",
       "4 -0.073692  \n",
       "5 -0.073692  \n",
       "6 -0.073692  \n",
       "7 -0.073692  \n",
       "8 -0.073692  \n",
       "9 -0.073692  "
      ]
     },
     "execution_count": 20,
     "metadata": {},
     "output_type": "execute_result"
    }
   ],
   "source": [
    "X_test[:10]"
   ]
  },
  {
   "cell_type": "code",
   "execution_count": 21,
   "metadata": {
    "colab": {
     "base_uri": "https://localhost:8080/"
    },
    "id": "hwUCusdhxp3Q",
    "outputId": "4996c969-e476-41cc-998e-b695dd0ad79f"
   },
   "outputs": [
    {
     "data": {
      "text/plain": [
       "336    0\n",
       "337    1\n",
       "338    1\n",
       "339    1\n",
       "340    1\n",
       "341    0\n",
       "342    0\n",
       "343    1\n",
       "344    1\n",
       "345    1\n",
       "Name: area, dtype: int64"
      ]
     },
     "execution_count": 21,
     "metadata": {},
     "output_type": "execute_result"
    }
   ],
   "source": [
    "Y_test[:10]"
   ]
  },
  {
   "cell_type": "markdown",
   "metadata": {
    "id": "bNRoNIEev4E8"
   },
   "source": [
    "### Test to check:"
   ]
  },
  {
   "cell_type": "code",
   "execution_count": 23,
   "metadata": {
    "colab": {
     "base_uri": "https://localhost:8080/"
    },
    "id": "FVGep4yOkN9s",
    "outputId": "2031af1a-b018-43a1-a3ef-5f8733f2394f"
   },
   "outputs": [
    {
     "data": {
      "text/plain": [
       "array([1, 1, 1, 1, 1, 1, 1, 0, 0, 1, 1, 0, 0, 0, 0, 0, 0, 1, 1, 0, 0, 1,\n",
       "       1, 1, 1, 0, 0, 1, 1, 1, 0, 0, 0, 0, 0, 0, 1, 1, 1, 0, 1, 1, 1, 0,\n",
       "       1, 1, 1, 1, 1, 1, 0, 0, 1, 1, 1, 1, 1, 0, 0, 0, 0, 1, 1, 0, 0, 0,\n",
       "       1, 1, 0, 1, 1, 0, 1, 0, 0, 1, 0, 1, 1, 1, 1, 0, 1, 1, 1, 1, 1, 0,\n",
       "       1, 1, 1, 1, 1, 1, 1, 1, 1, 1, 1, 0, 1, 1, 1, 0, 1, 1, 0, 1, 1, 0,\n",
       "       1, 1, 1, 1, 1, 0, 1, 1, 1, 1, 1, 1, 1, 1, 1, 1, 0, 0, 0, 0, 1, 0,\n",
       "       0, 1, 0, 0, 0, 0, 0, 1, 0, 1, 1, 0, 1, 1, 1, 1, 1, 1, 1, 1, 1, 1,\n",
       "       1, 1, 1, 1, 1, 1, 1, 1, 1, 0, 0, 0, 0, 1, 1, 1, 0, 1, 1, 0, 0, 1,\n",
       "       1, 0, 0, 1, 0])"
      ]
     },
     "execution_count": 23,
     "metadata": {},
     "output_type": "execute_result"
    }
   ],
   "source": [
    "nn_classifier_model.predict(X_test)"
   ]
  },
  {
   "cell_type": "code",
   "execution_count": 24,
   "metadata": {
    "colab": {
     "base_uri": "https://localhost:8080/"
    },
    "id": "ruf7949ykgiW",
    "outputId": "f949335c-e095-44ce-9c24-eced7b775c12"
   },
   "outputs": [
    {
     "data": {
      "text/plain": [
       "array([0, 1, 1, 1, 1, 0, 0, 1, 1, 1, 1, 0, 0, 1, 1, 1, 1, 1, 1, 1, 1, 0,\n",
       "       0, 1, 1, 1, 1, 1, 1, 1, 1, 0, 1, 0, 1, 0, 0, 0, 1, 1, 0, 1, 0, 0,\n",
       "       1, 1, 1, 1, 1, 1, 1, 0, 1, 0, 1, 1, 1, 0, 0, 1, 1, 1, 0, 0, 1, 1,\n",
       "       0, 0, 1, 0, 1, 0, 1, 0, 0, 1, 1, 0, 0, 1, 1, 0, 1, 1, 1, 0, 1, 1,\n",
       "       1, 0, 0, 1, 0, 1, 0, 1, 0, 1, 0, 0, 1, 0, 1, 1, 0, 1, 1, 0, 1, 0,\n",
       "       0, 0, 0, 0, 1, 1, 0, 0, 0, 0, 0, 1, 1, 1, 0, 0, 1, 1, 1, 1, 1, 1,\n",
       "       1, 1, 0, 1, 1, 1, 1, 1, 1, 1, 1, 1, 1, 0, 1, 0, 1, 1, 1, 1, 1, 0,\n",
       "       0, 0, 0, 1, 1, 0, 1, 1, 1, 1, 0, 0, 0, 1, 1, 1, 0, 0, 0, 1, 1, 0,\n",
       "       1, 1, 1, 0, 0])"
      ]
     },
     "execution_count": 24,
     "metadata": {},
     "output_type": "execute_result"
    }
   ],
   "source": [
    "np.array(Y_test)"
   ]
  },
  {
   "cell_type": "code",
   "execution_count": 25,
   "metadata": {
    "colab": {
     "base_uri": "https://localhost:8080/"
    },
    "id": "uajulhfaksKN",
    "outputId": "96e63306-ba2c-43ae-8e1f-fec1732b2142"
   },
   "outputs": [
    {
     "name": "stdout",
     "output_type": "stream",
     "text": [
      "MLP Classifier Accuracy, 50.27624%\n"
     ]
    }
   ],
   "source": [
    "Y_pred=nn_classifier_model.predict(X_test)\n",
    "print('MLP Classifier Accuracy, {:.5f}%'.format(np.mean(Y_pred==Y_test)*100))"
   ]
  },
  {
   "cell_type": "code",
   "execution_count": null,
   "metadata": {},
   "outputs": [],
   "source": []
  }
 ],
 "metadata": {
  "colab": {
   "authorship_tag": "ABX9TyMUPv+cc1wv5vDaMNyhuS7b",
   "include_colab_link": true,
   "name": "MLP Classifier Model Test ",
   "provenance": []
  },
  "kernelspec": {
   "display_name": "Python 3 (ipykernel)",
   "language": "python",
   "name": "python3"
  },
  "language_info": {
   "codemirror_mode": {
    "name": "ipython",
    "version": 3
   },
   "file_extension": ".py",
   "mimetype": "text/x-python",
   "name": "python",
   "nbconvert_exporter": "python",
   "pygments_lexer": "ipython3",
   "version": "3.9.16"
  }
 },
 "nbformat": 4,
 "nbformat_minor": 4
}
